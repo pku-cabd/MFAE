{
 "cells": [
  {
   "cell_type": "code",
   "execution_count": 1,
   "metadata": {},
   "outputs": [],
   "source": [
    "from utils_bert import train, validate\n",
    "from mfae.model_visual import ESIM\n",
    "import torch.nn as nn\n",
    "import matplotlib.pyplot as plt\n",
    "import os\n",
    "import sys\n",
    "import argparse\n",
    "import json\n",
    "import numpy as np\n",
    "import pickle\n",
    "import torch\n",
    "import matplotlib\n",
    "from bert_serving.client import BertClient\n",
    "matplotlib.use('Agg')\n",
    "device = 'cpu'"
   ]
  },
  {
   "cell_type": "code",
   "execution_count": 50,
   "metadata": {},
   "outputs": [],
   "source": [
    "def transform_batch_data(data, batch_size=64, shuffle=True):\n",
    "    data_batch = dict()\n",
    "    data_batch['premises'] = dict()\n",
    "    data_batch['hypotheses'] = dict()\n",
    "    data_batch['labels'] = dict()\n",
    "    index = np.arange(len(data['labels']))\n",
    "    if shuffle:\n",
    "        np.random.shuffle(index)\n",
    "\n",
    "    idx = -1\n",
    "    for i in range(len(index)):\n",
    "        if i % batch_size == 0:\n",
    "            idx += 1\n",
    "            data_batch['premises'][idx] = []\n",
    "            data_batch['hypotheses'][idx] = []\n",
    "            data_batch['labels'][idx] = []\n",
    "        data_batch['premises'][idx].append(data['premises'][index[i]])\n",
    "        data_batch['hypotheses'][idx].append(data['hypotheses'][index[i]])\n",
    "        data_batch['labels'][idx].append(int(data['labels'][index[i]]))\n",
    "    return data_batch\n",
    "\n",
    "def plt_attention(A, xticks, yticks, fig_name):\n",
    "    \"\"\" Generates a heat map for the attention matrix.\n",
    "    \n",
    "        Args:\n",
    "            A: torch.Tensor of shape (batch_size, 1, max_length, max_length)\n",
    "                The attention matrix.\n",
    "            xticks: list of string\n",
    "                The labels to use for the x-axis ticks.\n",
    "            yticks: list of string\n",
    "                The labels to use for the y-axis ticks.\n",
    "                \n",
    "        Returns:\n",
    "            None\n",
    "    \"\"\"\n",
    "    A = A[1:-1,1:-1]\n",
    "    xticks = [w for w in xticks[0].rstrip().split()]\n",
    "    yticks = [w for w in yticks[0].rstrip().split()]\n",
    "#     print(A.shape, len(xticks), len(yticks))\n",
    "    # Sanity checks\n",
    "    assert(A.shape[0] == len(xticks) and A.shape[1] == len(yticks))\n",
    "    \n",
    "    # Make plot bigger so its easier to read\n",
    "    plt.rcParams[\"figure.figsize\"] = 10, 10\n",
    "    \n",
    "    # Make x-ticks and label appear on top\n",
    "    plt.rcParams['xtick.bottom'] = plt.rcParams['xtick.labelbottom'] = False\n",
    "    plt.rcParams['xtick.top'] = plt.rcParams['xtick.labeltop'] = True\n",
    "    \n",
    "    # Plot the attention distribution\n",
    "#     plt.matshow(A)\n",
    "    plt.imshow(A, cmap=\"rainbow\", interpolation=\"nearest\")\n",
    "    plt.yticks(range(len(xticks)), xticks)\n",
    "    plt.xticks(range(len(yticks)), yticks, rotation=90)\n",
    "    plt.colorbar()\n",
    "    plt.savefig(fig_name, dpi=300)    \n",
    "    plt.show()\n",
    "    \n",
    "def plt_importance(intra_importance, inter_importance, yticks, fig_name):\n",
    "    \"\"\" Generates heat maps for the importance matrix.\n",
    "    \n",
    "        Args:\n",
    "            A: torch.Tensor of shape (batch_size, 1, max_length, max_length)\n",
    "                The attention matrix.\n",
    "            xticks: list of string\n",
    "                The labels to use for the x-axis ticks.\n",
    "            yticks: list of string\n",
    "                The labels to use for the y-axis ticks.\n",
    "                \n",
    "        Returns:\n",
    "            None\n",
    "    \"\"\"\n",
    "    intra_importance = intra_importance[1:-1]\n",
    "    inter_importance = inter_importance[1:-1]\n",
    "    yticks = [w for w in yticks[0].rstrip().split()]\n",
    "\n",
    "    # Make plot bigger so its easier to read\n",
    "    plt.rcParams[\"figure.figsize\"] = 10, 10\n",
    "    \n",
    "    # Make x-ticks and label appear on top\n",
    "    plt.rcParams['xtick.bottom'] = plt.rcParams['xtick.labelbottom'] = False\n",
    "    plt.rcParams['xtick.top'] = plt.rcParams['xtick.labeltop'] = True\n",
    "    \n",
    "    # Plot the attention distribution\n",
    "    plt.subplot(1,3,1)\n",
    "    plt.imshow(intra_importance, cmap=\"rainbow\", interpolation=\"nearest\")\n",
    "    plt.yticks(range(len(yticks)), yticks)\n",
    "    plt.xlabel('Intra Asking Emphasis')\n",
    "    plt.colorbar()\n",
    "    plt.subplot(1,3,2)\n",
    "    plt.imshow(inter_importance, cmap=\"rainbow\", interpolation=\"nearest\")\n",
    "    plt.yticks(range(len(yticks)), yticks)\n",
    "    plt.xlabel('Inter Asking Emphasis')\n",
    "    plt.colorbar()\n",
    "    plt.savefig(fig_name, dpi=300)   \n",
    "    plt.show()"
   ]
  },
  {
   "cell_type": "code",
   "execution_count": 3,
   "metadata": {},
   "outputs": [
    {
     "name": "stdout",
     "output_type": "stream",
     "text": [
      "\t* Loading validation data...\n"
     ]
    }
   ],
   "source": [
    "valid_file = 'data/preprocessed/quora/bert_dev_data.pkl'\n",
    "print(\"\\t* Loading validation data...\")\n",
    "with open(valid_file, \"rb\") as pkl:\n",
    "    valid_data = pickle.load(pkl)\n",
    "    valid_dataloader = transform_batch_data(valid_data, batch_size=1, shuffle=False)"
   ]
  },
  {
   "cell_type": "code",
   "execution_count": 4,
   "metadata": {},
   "outputs": [],
   "source": [
    "with open(\"config/training/quora_training_bert.json\", 'r') as config_file:\n",
    "    config = json.load(config_file)\n",
    "embedding_size = config[\"embedding_size\"]\n",
    "hidden_size = config[\"hidden_size\"]\n",
    "dropout = config[\"dropout\"]\n",
    "num_classes = config[\"num_classes\"]"
   ]
  },
  {
   "cell_type": "code",
   "execution_count": 5,
   "metadata": {},
   "outputs": [
    {
     "name": "stdout",
     "output_type": "stream",
     "text": [
      "\t* Building model...\n"
     ]
    },
    {
     "data": {
      "text/plain": [
       "IncompatibleKeys(missing_keys=[], unexpected_keys=[])"
      ]
     },
     "execution_count": 5,
     "metadata": {},
     "output_type": "execute_result"
    }
   ],
   "source": [
    "checkpoint = 'data/checkpoints/quora/bert/' +\"best.pth.tar\"\n",
    "print(\"\\t* Building model...\")\n",
    "model = ESIM(embedding_size,\n",
    "             hidden_size,\n",
    "             dropout=dropout,\n",
    "             num_classes=num_classes,\n",
    "             device=device).to(device)\n",
    "checkpoint = torch.load(checkpoint)\n",
    "model.load_state_dict(checkpoint[\"model\"])"
   ]
  },
  {
   "cell_type": "code",
   "execution_count": 6,
   "metadata": {},
   "outputs": [],
   "source": [
    "model.eval()\n",
    "running_loss = 0.0\n",
    "running_accuracy = 0.0\n",
    "total_num = 0\n",
    "bc = BertClient()\n",
    "batch = valid_dataloader"
   ]
  },
  {
   "cell_type": "code",
   "execution_count": 7,
   "metadata": {},
   "outputs": [
    {
     "name": "stdout",
     "output_type": "stream",
     "text": [
      "['how do i get funding for my web based startup idea ?']\n",
      "['how do i get seed funding pre product ?']\n",
      "true class: 1, predict class: 1\n"
     ]
    },
    {
     "name": "stderr",
     "output_type": "stream",
     "text": [
      "/home/qifeiz/anaconda3/lib/python3.6/site-packages/bert_serving/client/__init__.py:290: UserWarning: server does not put a restriction on \"max_seq_len\", it will determine \"max_seq_len\" dynamically according to the sequences in the batch. you can restrict the sequence length on the client side for better efficiency\n",
      "  warnings.warn('server does not put a restriction on \"max_seq_len\", '\n"
     ]
    }
   ],
   "source": [
    "batch_index = 0\n",
    "with torch.no_grad():\n",
    "    # Move input and output data to the GPU if one is used.\n",
    "    premises = torch.tensor(bc.encode(batch[\"premises\"][batch_index])).to(device)\n",
    "    hypotheses = torch.tensor(bc.encode(batch[\"hypotheses\"][batch_index])).to(device)\n",
    "    labels = torch.tensor(batch[\"labels\"][batch_index]).to(device)\n",
    "    logits, probs, importances = model(premises, hypotheses)\n",
    "    \n",
    "    print(batch[\"premises\"][batch_index])\n",
    "    print(batch[\"hypotheses\"][batch_index])\n",
    "    print('true class: %d, predict class: %d' % (labels.item(), torch.argmax(probs).item()))"
   ]
  },
  {
   "cell_type": "code",
   "execution_count": 51,
   "metadata": {},
   "outputs": [
    {
     "data": {
      "image/png": "[encoded data removed]",
      "text/plain": [
       "<Figure size 720x720 with 4 Axes>"
      ]
     },
     "metadata": {},
     "output_type": "display_data"
    }
   ],
   "source": [
    "plt_importance(importances[1][0], importances[3][0] , batch[\"premises\"][batch_index], fig_name='sentence1_emphasis')"
   ]
  },
  {
   "cell_type": "code",
   "execution_count": 52,
   "metadata": {},
   "outputs": [
    {
     "data": {
      "image/png": "[encoded data removed]",
      "text/plain": [
       "<Figure size 720x720 with 4 Axes>"
      ]
     },
     "metadata": {},
     "output_type": "display_data"
    }
   ],
   "source": [
    "plt_importance(importances[2][0], importances[4][0] , batch[\"hypotheses\"][batch_index], fig_name='sentence2_emphasis')"
   ]
  },
  {
   "cell_type": "code",
   "execution_count": 53,
   "metadata": {},
   "outputs": [
    {
     "data": {
      "image/png": "[encoded data removed]",
      "text/plain": [
       "<Figure size 720x720 with 2 Axes>"
      ]
     },
     "metadata": {},
     "output_type": "display_data"
    }
   ],
   "source": [
    "plt_attention(importances[0].cpu().numpy()[0], batch[\"premises\"][batch_index], batch[\"hypotheses\"][batch_index], fig_name='attention')"
   ]
  },
  {
   "cell_type": "code",
   "execution_count": null,
   "metadata": {},
   "outputs": [],
   "source": []
  },
  {
   "cell_type": "code",
   "execution_count": null,
   "metadata": {},
   "outputs": [],
   "source": []
  },
  {
   "cell_type": "code",
   "execution_count": null,
   "metadata": {},
   "outputs": [],
   "source": []
  },
  {
   "cell_type": "code",
   "execution_count": null,
   "metadata": {},
   "outputs": [],
   "source": []
  },
  {
   "cell_type": "code",
   "execution_count": null,
   "metadata": {},
   "outputs": [],
   "source": []
  },
  {
   "cell_type": "code",
   "execution_count": null,
   "metadata": {},
   "outputs": [],
   "source": []
  },
  {
   "cell_type": "code",
   "execution_count": null,
   "metadata": {},
   "outputs": [],
   "source": []
  }
 ],
 "metadata": {
  "kernelspec": {
   "display_name": "Python 3",
   "language": "python",
   "name": "python3"
  },
  "language_info": {
   "codemirror_mode": {
    "name": "ipython",
    "version": 3
   },
   "file_extension": ".py",
   "mimetype": "text/x-python",
   "name": "python",
   "nbconvert_exporter": "python",
   "pygments_lexer": "ipython3",
   "version": "3.6.9"
  },
  "pycharm": {
   "stem_cell": {
    "cell_type": "raw",
    "source": [],
    "metadata": {
     "collapsed": false
    }
   }
  }
 },
 "nbformat": 4,
 "nbformat_minor": 2
}